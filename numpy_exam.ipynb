{
 "cells": [
  {
   "cell_type": "code",
   "execution_count": 1,
   "metadata": {},
   "outputs": [],
   "source": [
    "import numpy as np"
   ]
  },
  {
   "cell_type": "code",
   "execution_count": 20,
   "metadata": {},
   "outputs": [
    {
     "name": "stdout",
     "output_type": "stream",
     "text": [
      "3\n",
      "hello,hello\n",
      "1,2\n",
      "2,3\n",
      "4,5\n"
     ]
    }
   ],
   "source": [
    "rows = int(input())\n",
    "\n",
    "headers = [j for j in input().split(',')]\n",
    "\n",
    "a = [[int(j) for j in input().split(',')] for i in range(rows)]"
   ]
  },
  {
   "cell_type": "code",
   "execution_count": 22,
   "metadata": {},
   "outputs": [
    {
     "name": "stdout",
     "output_type": "stream",
     "text": [
      "['hello' 'hello']\n"
     ]
    }
   ],
   "source": [
    "headers = np.array(headers) \n",
    "print(headers)"
   ]
  },
  {
   "cell_type": "code",
   "execution_count": 23,
   "metadata": {},
   "outputs": [
    {
     "name": "stdout",
     "output_type": "stream",
     "text": [
      "[[1 2]\n",
      " [2 3]\n",
      " [4 5]]\n"
     ]
    }
   ],
   "source": [
    "a = np.array(a, dtype=np.int32)\n",
    "print(a)"
   ]
  },
  {
   "cell_type": "code",
   "execution_count": 24,
   "metadata": {},
   "outputs": [
    {
     "ename": "ValueError",
     "evalue": "all the input arrays must have same number of dimensions",
     "output_type": "error",
     "traceback": [
      "\u001b[1;31m---------------------------------------------------------------------------\u001b[0m",
      "\u001b[1;31mValueError\u001b[0m                                Traceback (most recent call last)",
      "\u001b[1;32m<ipython-input-24-9d36a2092bc0>\u001b[0m in \u001b[0;36m<module>\u001b[1;34m\u001b[0m\n\u001b[1;32m----> 1\u001b[1;33m \u001b[0marray\u001b[0m \u001b[1;33m=\u001b[0m \u001b[0mnp\u001b[0m\u001b[1;33m.\u001b[0m\u001b[0mconcatenate\u001b[0m\u001b[1;33m(\u001b[0m\u001b[1;33m(\u001b[0m\u001b[0mheaders\u001b[0m\u001b[1;33m,\u001b[0m \u001b[0ma\u001b[0m\u001b[1;33m)\u001b[0m\u001b[1;33m,\u001b[0m \u001b[0maxis\u001b[0m\u001b[1;33m=\u001b[0m\u001b[1;36m0\u001b[0m\u001b[1;33m)\u001b[0m\u001b[1;33m\u001b[0m\u001b[1;33m\u001b[0m\u001b[0m\n\u001b[0m\u001b[0;32m      2\u001b[0m \u001b[0mprint\u001b[0m\u001b[1;33m(\u001b[0m\u001b[0marray\u001b[0m\u001b[1;33m)\u001b[0m\u001b[1;33m\u001b[0m\u001b[1;33m\u001b[0m\u001b[0m\n",
      "\u001b[1;31mValueError\u001b[0m: all the input arrays must have same number of dimensions"
     ]
    }
   ],
   "source": [
    "array = np.concatenate((headers, a), axis=0)\n",
    "print(array)"
   ]
  },
  {
   "cell_type": "code",
   "execution_count": 17,
   "metadata": {},
   "outputs": [
    {
     "name": "stdout",
     "output_type": "stream",
     "text": [
      "[[1 2]\n",
      " [3 4]\n",
      " [5 6]]\n"
     ]
    }
   ],
   "source": [
    "a = np.array([[1, 2], [3, 4]])\n",
    "b = np.array([[5, 6]])\n",
    "print(np.concatenate((a, b), axis=0))"
   ]
  },
  {
   "cell_type": "code",
   "execution_count": 16,
   "metadata": {},
   "outputs": [
    {
     "data": {
      "text/plain": [
       "array([[   1, 1789, 1797,   57, 1732,  189],\n",
       "       [   2, 1797, 1801,   61, 1735,  170],\n",
       "       [   3, 1801, 1809,   57, 1743,  189],\n",
       "       [   4, 1809, 1817,   57, 1751,  163],\n",
       "       [   5, 1817, 1825,   58, 1758,  183],\n",
       "       [   6, 1825, 1829,   57, 1767,  171],\n",
       "       [   7, 1829, 1837,   61, 1767,  185],\n",
       "       [   8, 1837, 1841,   54, 1782,  168],\n",
       "       [   9, 1841, 1841,   68, 1773,  173],\n",
       "       [  10, 1841, 1845,   51, 1790,  183],\n",
       "       [  11, 1845, 1849,   49, 1795,  173],\n",
       "       [  12, 1849, 1850,   64, 1784,  173],\n",
       "       [  13, 1850, 1853,   50, 1800,  175],\n",
       "       [  14, 1853, 1857,   48, 1804,  178],\n",
       "       [  15, 1857, 1861,   65, 1791,  183],\n",
       "       [  16, 1861, 1865,   52, 1809,  193],\n",
       "       [  17, 1865, 1869,   56, 1808,  178],\n",
       "       [  18, 1869, 1877,   46, 1822,  173],\n",
       "       [  19, 1877, 1881,   54, 1822,  174],\n",
       "       [  20, 1881, 1881,   49, 1831,  183],\n",
       "       [  21, 1881, 1885,   50, 1829,  183],\n",
       "       [  22, 1885, 1889,   47, 1837,  180],\n",
       "       [  23, 1889, 1893,   55, 1833,  168],\n",
       "       [  24, 1893, 1897,   55, 1837,  180],\n",
       "       [  25, 1897, 1901,   54, 1843,  170],\n",
       "       [  26, 1901, 1909,   42, 1858,  178],\n",
       "       [  27, 1909, 1913,   51, 1857,  182],\n",
       "       [  28, 1913, 1921,   56, 1856,  180],\n",
       "       [  29, 1921, 1923,   55, 1865,  183],\n",
       "       [  30, 1923, 1929,   51, 1872,  178],\n",
       "       [  31, 1929, 1933,   54, 1874,  182],\n",
       "       [  32, 1933, 1945,   51, 1882,  188],\n",
       "       [  33, 1945, 1953,   60, 1884,  175],\n",
       "       [  34, 1953, 1961,   62, 1890,  179],\n",
       "       [  35, 1961, 1963,   43, 1917,  183],\n",
       "       [  36, 1963, 1969,   55, 1908,  193],\n",
       "       [  37, 1969, 1974,   56, 1913,  182],\n",
       "       [  38, 1974, 1977,   61, 1913,  183],\n",
       "       [  39, 1977, 1981,   52, 1924,  177],\n",
       "       [  40, 1981, 1989,   69, 1911,  185],\n",
       "       [  41, 1989, 1993,   64, 1924,  188],\n",
       "       [  42, 1993, 2001,   46, 1946,  188],\n",
       "       [  43, 2001, 2009,   54, 1946,  182],\n",
       "       [  44, 2009, 2017,   47, 1961,  185]])"
      ]
     },
     "execution_count": 16,
     "metadata": {},
     "output_type": "execute_result"
    }
   ],
   "source": [
    "npa = np.loadtxt('presidents.csv',\n",
    "                 delimiter=',',\n",
    "                 skiprows=1,\n",
    "                 usecols=[0, 2, 3, 4, 5, 6],\n",
    "                 dtype='int')\n",
    "\n",
    "npa"
   ]
  },
  {
   "cell_type": "code",
   "execution_count": 17,
   "metadata": {},
   "outputs": [
    {
     "data": {
      "text/plain": [
       "54.63636363636363"
      ]
     },
     "execution_count": 17,
     "metadata": {},
     "output_type": "execute_result"
    }
   ],
   "source": [
    "# What is the mean age at inauguration?\n",
    "npa[:, 3].mean()"
   ]
  },
  {
   "cell_type": "code",
   "execution_count": 18,
   "metadata": {},
   "outputs": [
    {
     "data": {
      "text/plain": [
       "1789"
      ]
     },
     "execution_count": 18,
     "metadata": {},
     "output_type": "execute_result"
    }
   ],
   "source": [
    "# When was the first president inaugurated?\n",
    "npa[:, 1].min()"
   ]
  },
  {
   "cell_type": "code",
   "execution_count": 19,
   "metadata": {},
   "outputs": [
    {
     "data": {
      "text/plain": [
       "179.75"
      ]
     },
     "execution_count": 19,
     "metadata": {},
     "output_type": "execute_result"
    }
   ],
   "source": [
    "#What is the average height of our presidents?\n",
    "npa[:, 5].mean()"
   ]
  },
  {
   "cell_type": "raw",
   "metadata": {},
   "source": [
    "# Data Manipulation"
   ]
  },
  {
   "cell_type": "code",
   "execution_count": 20,
   "metadata": {},
   "outputs": [
    {
     "data": {
      "text/plain": [
       "array([74.409489, 66.92917 , 74.409489, 64.173263, 72.047283, 67.322871,\n",
       "       72.834685, 66.141768, 68.110273, 72.047283, 68.110273, 68.110273,\n",
       "       68.897675, 70.078778, 72.047283, 75.984293, 70.078778, 68.110273,\n",
       "       68.503974, 72.047283, 72.047283, 70.86618 , 66.141768, 70.86618 ,\n",
       "       66.92917 , 70.078778, 71.653582, 70.86618 , 72.047283, 70.078778,\n",
       "       71.653582, 74.015788, 68.897675, 70.472479, 72.047283, 75.984293,\n",
       "       71.653582, 72.047283, 69.685077, 72.834685, 74.015788, 74.015788,\n",
       "       71.653582, 72.834685])"
      ]
     },
     "execution_count": 20,
     "metadata": {},
     "output_type": "execute_result"
    }
   ],
   "source": [
    "# Print all heights in inches.\n",
    "npa[:, 5]*0.393701"
   ]
  },
  {
   "cell_type": "code",
   "execution_count": 21,
   "metadata": {},
   "outputs": [
    {
     "data": {
      "text/plain": [
       "array([[   1, 1789, 1797,   57, 1732,  189,    8],\n",
       "       [   2, 1797, 1801,   61, 1735,  170,    4],\n",
       "       [   3, 1801, 1809,   57, 1743,  189,    8],\n",
       "       [   4, 1809, 1817,   57, 1751,  163,    8],\n",
       "       [   5, 1817, 1825,   58, 1758,  183,    8],\n",
       "       [   6, 1825, 1829,   57, 1767,  171,    4],\n",
       "       [   7, 1829, 1837,   61, 1767,  185,    8],\n",
       "       [   8, 1837, 1841,   54, 1782,  168,    4],\n",
       "       [   9, 1841, 1841,   68, 1773,  173,    0],\n",
       "       [  10, 1841, 1845,   51, 1790,  183,    4],\n",
       "       [  11, 1845, 1849,   49, 1795,  173,    4],\n",
       "       [  12, 1849, 1850,   64, 1784,  173,    1],\n",
       "       [  13, 1850, 1853,   50, 1800,  175,    3],\n",
       "       [  14, 1853, 1857,   48, 1804,  178,    4],\n",
       "       [  15, 1857, 1861,   65, 1791,  183,    4],\n",
       "       [  16, 1861, 1865,   52, 1809,  193,    4],\n",
       "       [  17, 1865, 1869,   56, 1808,  178,    4],\n",
       "       [  18, 1869, 1877,   46, 1822,  173,    8],\n",
       "       [  19, 1877, 1881,   54, 1822,  174,    4],\n",
       "       [  20, 1881, 1881,   49, 1831,  183,    0],\n",
       "       [  21, 1881, 1885,   50, 1829,  183,    4],\n",
       "       [  22, 1885, 1889,   47, 1837,  180,    4],\n",
       "       [  23, 1889, 1893,   55, 1833,  168,    4],\n",
       "       [  24, 1893, 1897,   55, 1837,  180,    4],\n",
       "       [  25, 1897, 1901,   54, 1843,  170,    4],\n",
       "       [  26, 1901, 1909,   42, 1858,  178,    8],\n",
       "       [  27, 1909, 1913,   51, 1857,  182,    4],\n",
       "       [  28, 1913, 1921,   56, 1856,  180,    8],\n",
       "       [  29, 1921, 1923,   55, 1865,  183,    2],\n",
       "       [  30, 1923, 1929,   51, 1872,  178,    6],\n",
       "       [  31, 1929, 1933,   54, 1874,  182,    4],\n",
       "       [  32, 1933, 1945,   51, 1882,  188,   12],\n",
       "       [  33, 1945, 1953,   60, 1884,  175,    8],\n",
       "       [  34, 1953, 1961,   62, 1890,  179,    8],\n",
       "       [  35, 1961, 1963,   43, 1917,  183,    2],\n",
       "       [  36, 1963, 1969,   55, 1908,  193,    6],\n",
       "       [  37, 1969, 1974,   56, 1913,  182,    5],\n",
       "       [  38, 1974, 1977,   61, 1913,  183,    3],\n",
       "       [  39, 1977, 1981,   52, 1924,  177,    4],\n",
       "       [  40, 1981, 1989,   69, 1911,  185,    8],\n",
       "       [  41, 1989, 1993,   64, 1924,  188,    4],\n",
       "       [  42, 1993, 2001,   46, 1946,  188,    8],\n",
       "       [  43, 2001, 2009,   54, 1946,  182,    8],\n",
       "       [  44, 2009, 2017,   47, 1961,  185,    8]])"
      ]
     },
     "execution_count": 21,
     "metadata": {},
     "output_type": "execute_result"
    }
   ],
   "source": [
    "# Add a column to the array that contains the term time of each president.\n",
    "\n",
    "npa = np.insert(npa,\n",
    "                6,\n",
    "                npa[:,2] - npa[:,1],\n",
    "                axis=1)\n",
    "\n",
    "npa"
   ]
  },
  {
   "cell_type": "code",
   "execution_count": 22,
   "metadata": {},
   "outputs": [
    {
     "data": {
      "text/plain": [
       "array([[   1, 1789, 1797,   57, 1732,  189,    8],\n",
       "       [   2, 1797, 1801,   61, 1735,  170,    4],\n",
       "       [   3, 1801, 1809,   57, 1743,  189,    8],\n",
       "       [   4, 1809, 1817,   57, 1751,  163,    8],\n",
       "       [   5, 1817, 1825,   58, 1758,  183,    8],\n",
       "       [   6, 1825, 1829,   57, 1767,  171,    4],\n",
       "       [   7, 1829, 1837,   61, 1767,  185,    8],\n",
       "       [   8, 1837, 1841,   54, 1782,  168,    4],\n",
       "       [   9, 1841, 1841,   68, 1773,  173,    0],\n",
       "       [  10, 1841, 1845,   51, 1790,  183,    4],\n",
       "       [  11, 1845, 1849,   49, 1795,  173,    4],\n",
       "       [  12, 1849, 1850,   64, 1784,  173,    1],\n",
       "       [  13, 1850, 1853,   50, 1800,  175,    3],\n",
       "       [  14, 1853, 1857,   48, 1804,  178,    4],\n",
       "       [  15, 1857, 1861,   65, 1791,  183,    4],\n",
       "       [  16, 1861, 1865,   52, 1809,  193,    4],\n",
       "       [  17, 1865, 1869,   56, 1808,  178,    4],\n",
       "       [  18, 1869, 1877,   46, 1822,  173,    8],\n",
       "       [  19, 1877, 1881,   54, 1822,  174,    4],\n",
       "       [  20, 1881, 1881,   49, 1831,  183,    0],\n",
       "       [  21, 1881, 1885,   50, 1829,  183,    4],\n",
       "       [  22, 1885, 1889,   47, 1837,  180,    4],\n",
       "       [  23, 1889, 1893,   55, 1833,  168,    4],\n",
       "       [  24, 1893, 1897,   55, 1837,  180,    4],\n",
       "       [  25, 1897, 1901,   54, 1843,  170,    4]])"
      ]
     },
     "execution_count": 22,
     "metadata": {},
     "output_type": "execute_result"
    }
   ],
   "source": [
    "# Print all presidencies in the 18th and 19th century.\n",
    "npa[npa[:,1] < 1900]"
   ]
  },
  {
   "cell_type": "code",
   "execution_count": 23,
   "metadata": {},
   "outputs": [
    {
     "data": {
      "text/plain": [
       "177.52"
      ]
     },
     "execution_count": 23,
     "metadata": {},
     "output_type": "execute_result"
    }
   ],
   "source": [
    "# What is the average height of presidents in the 18th and 19th century?\n",
    "npa[npa[:,1] < 1900, 5].mean()"
   ]
  },
  {
   "cell_type": "code",
   "execution_count": 24,
   "metadata": {},
   "outputs": [
    {
     "data": {
      "text/plain": [
       "array([[  26, 1901, 1909,   42, 1858,  178,    8],\n",
       "       [  30, 1923, 1929,   51, 1872,  178,    6],\n",
       "       [  33, 1945, 1953,   60, 1884,  175,    8],\n",
       "       [  34, 1953, 1961,   62, 1890,  179,    8],\n",
       "       [  39, 1977, 1981,   52, 1924,  177,    4]])"
      ]
     },
     "execution_count": 24,
     "metadata": {},
     "output_type": "execute_result"
    }
   ],
   "source": [
    "# Which presidents in the 20th century were below 180cm?\n",
    "\n",
    "npa[(npa[:,5] < 180) & (npa[:,1] >= 1900) & (npa[:,1] < 2000)]"
   ]
  },
  {
   "cell_type": "code",
   "execution_count": 25,
   "metadata": {},
   "outputs": [
    {
     "data": {
      "text/plain": [
       "6.8"
      ]
     },
     "execution_count": 25,
     "metadata": {},
     "output_type": "execute_result"
    }
   ],
   "source": [
    "# What is the average term time of presidents below 180cm in the 20th century?\n",
    "\n",
    "npa[(npa[:,5] < 180) & (npa[:,1] >= 1900) & (npa[:,1] < 2000), 6].mean()"
   ]
  },
  {
   "cell_type": "code",
   "execution_count": 26,
   "metadata": {},
   "outputs": [
    {
     "data": {
      "text/plain": [
       "1993"
      ]
     },
     "execution_count": 26,
     "metadata": {},
     "output_type": "execute_result"
    }
   ],
   "source": [
    "# In which year was the last president inaugurated who was taller than 74 in.?\n",
    "\n",
    "npa[npa[:,5] * 0.393701 > 74, 1].max()"
   ]
  }
 ],
 "metadata": {
  "kernelspec": {
   "display_name": "Python 3",
   "language": "python",
   "name": "python3"
  },
  "language_info": {
   "codemirror_mode": {
    "name": "ipython",
    "version": 3
   },
   "file_extension": ".py",
   "mimetype": "text/x-python",
   "name": "python",
   "nbconvert_exporter": "python",
   "pygments_lexer": "ipython3",
   "version": "3.6.8"
  }
 },
 "nbformat": 4,
 "nbformat_minor": 1
}
